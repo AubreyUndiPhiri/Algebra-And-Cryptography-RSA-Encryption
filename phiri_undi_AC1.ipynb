{
  "cells": [
    {
      "cell_type": "markdown",
      "metadata": {
        "id": "OvTmSP2ePiwV"
      },
      "source": [
        "# AFRICAN INSTITUTE FOR MATHEMATICAL SCIENCES  \n",
        "#           (AIMS RWANDA, KIGALI)  \n",
        "__________________________________________________________________________\n",
        "__________________________________________________________________________\n",
        "|Name: Aubrey Undi Phiri      \n",
        "__________________________________________________________________________\n",
        "|Assignment Number: 1                   \n",
        "_________________________________________________________________________\n",
        "|Course: ALGEBRA AND CRYPTOGRAPHY          \n",
        "_________________________________________________________________________\n",
        "| Date: 01/ 03/2025\n",
        "_________________________________________________________________________\n"
      ]
    },
    {
      "cell_type": "markdown",
      "metadata": {
        "id": "K7umK5JoCaHn"
      },
      "source": [
        "#Exercice 2\n",
        "\n",
        "Bob intercepts from Alice the following encrypted message:\n",
        "\\begin{equation}\n",
        "\\begin{split}\n",
        "[&427849968240759007228494978639775081809, \\\\\n",
        "&498308250136673589542748543030806629941, \\\\\n",
        "&925288105342943743271024837479707225255, \\\\\n",
        "&95024328800414254907217356783906225740]\n",
        "\\end{split}\n",
        "\\end{equation}\n",
        "\n",
        "Alice knows that Bob uses the RSA cryptosystem and his public key is $(12398737, n)$ where\n",
        "\\begin{equation}\n",
        "n = 956331992007843552652604425031376690367\n",
        "\\end{equation}\n",
        "\n",
        "Knowing that Alice and Bob agreed to use the RSA cryptosystem to communicate in secret, each message consists of a single letter which is encoded as:\n",
        "\\begin{equation}\n",
        "\\begin{split}\n",
        "Space = 00\\\\\n",
        "A = 11\\\\\n",
        "B = 12\\\\\n",
        "C = 13\\\\\n",
        "D = 14\\\\\n",
        "E = 15\\\\\n",
        "F = 16\\\\\n",
        "G = 17\\\\\n",
        "H = 18\\\\\n",
        "I = 19\\\\\n",
        "J = 20\\\\\n",
        "K = 21\\\\\n",
        "L = 22\\\\\n",
        "M = 23\\\\\n",
        "N = 24\\\\\n",
        "O = 25\\\\\n",
        "P = 26\\\\\n",
        "Q = 27\\\\\n",
        "R = 28\\\\\n",
        "S = 29\\\\\n",
        "T = 30\\\\\n",
        "U = 31\\\\\n",
        "V = 32\\\\\n",
        "W = 33\\\\\n",
        "X = 34\\\\\n",
        "Y = 35\\\\\n",
        "Z = 36\\\\\n",
        "\\end{split}\n",
        "\\end{equation}\n",
        "\n",
        "Which message did Alice send to Bob?"
      ]
    },
    {
      "cell_type": "markdown",
      "metadata": {
        "id": "MRKO2T80PxDo"
      },
      "source": [
        "Identify Bob's public key (e, n) and the encrypted message.\n",
        "\n",
        "Use the private key (d, n) to decrypt the message. However, the private key d is not provided, so we need to calculate it using the extended Euclidean algorithm.\n",
        "\n",
        "After finding the private key d, use it to decrypt the message using the formula $m = c^d mod (n).$\n",
        "\n",
        "Convert the decrypted numeric message to text using the encoding scheme."
      ]
    },
    {
      "cell_type": "code",
      "execution_count": null,
      "metadata": {
        "colab": {
          "base_uri": "https://localhost:8080/"
        },
        "id": "IBwY4RKaPsbh",
        "outputId": "22918e7c-4513-4524-c687-9e6877b06adc"
      },
      "outputs": [
        {
          "data": {
            "text/plain": [
              "(7746289204980135457,\n",
              " 123456789012345681631,\n",
              " 956331992007843552521401346814050873280,\n",
              " 801756262003467870842260800571951669873,\n",
              " [30181929001929002335002215303015280030,\n",
              "  25003018150033252822140030181130002415,\n",
              "  32152800332825301500302500231500152319,\n",
              "  223500141913211924292524])"
            ]
          },
          "execution_count": 8,
          "metadata": {},
          "output_type": "execute_result"
        }
      ],
      "source": [
        "from sympy import mod_inverse, factorint\n",
        "\n",
        "# Given values\n",
        "e = 12398737\n",
        "n = 956331992007843552652604425031376690367\n",
        "encrypted_message = [\n",
        "    427849968240759007228494978639775081809,\n",
        "    498308250136673589542748543030806629941,\n",
        "    925288105342943743271024837479707225255,\n",
        "    95024328800414254907217356783906225740\n",
        "]\n",
        "\n",
        "# Factorize n to find p and q\n",
        "factors = factorint(n)\n",
        "p, q = list(factors.keys())\n",
        "\n",
        "#  Compute φ(n)\n",
        "phi_n = (p - 1) * (q - 1)\n",
        "\n",
        "#  Compute modular inverse to find d\n",
        "d = mod_inverse(e, phi_n)\n",
        "\n",
        "#  Decrypt each number\n",
        "decrypted_numbers = [pow(c, d, n) for c in encrypted_message]\n",
        "\n",
        "# Output values\n",
        "p, q, phi_n, d, decrypted_numbers\n"
      ]
    },
    {
      "cell_type": "code",
      "execution_count": null,
      "metadata": {
        "colab": {
          "base_uri": "https://localhost:8080/"
        },
        "id": "g20bmpE4M6at",
        "outputId": "17e61850-77c8-4258-c71e-c8161673e405"
      },
      "outputs": [
        {
          "name": "stdout",
          "output_type": "stream",
          "text": [
            "THIS IS MY LETTER TO THE WORLD THAT NEVER WROTE TO ME EMILY DICKINSON\n"
          ]
        }
      ],
      "source": [
        "# Mapping of numbers to characters\n",
        "num_to_char = {\n",
        "    0: ' ', 11: 'A', 12: 'B', 13: 'C', 14: 'D', 15: 'E', 16: 'F', 17: 'G', 18: 'H', 19: 'I',\n",
        "    20: 'J', 21: 'K', 22: 'L', 23: 'M', 24: 'N', 25: 'O', 26: 'P', 27: 'Q', 28: 'R', 29: 'S',\n",
        "    30: 'T', 31: 'U', 32: 'V', 33: 'W', 34: 'X', 35: 'Y', 36: 'Z'\n",
        "}\n",
        "\n",
        "# Function to decode the decrypted numbers\n",
        "def decode_message(decrypted_numbers):\n",
        "    message = \"\"\n",
        "    for number in decrypted_numbers:\n",
        "        # Convert number to string and split into pairs of digits\n",
        "        num_str = str(number)\n",
        "        for i in range(0, len(num_str), 2):\n",
        "            pair = int(num_str[i:i+2])\n",
        "            message += num_to_char.get(pair, '?')  # Use '?' for unknown pairs\n",
        "    return message\n",
        "\n",
        "# Decode the message\n",
        "decoded_message = decode_message(decrypted_numbers)\n",
        "print(decoded_message)"
      ]
    },
    {
      "cell_type": "code",
      "execution_count": null,
      "metadata": {
        "colab": {
          "base_uri": "https://localhost:8080/"
        },
        "id": "SWC4BQnd6aYa",
        "outputId": "e7a55c1b-4d11-4702-ef1b-dc9eaebe36a3"
      },
      "outputs": [
        {
          "name": "stdout",
          "output_type": "stream",
          "text": [
            "Requirement already satisfied: pycryptodome in /usr/local/lib/python3.11/dist-packages (3.21.0)\n"
          ]
        }
      ],
      "source": [
        "#!pip install pycryptodome"
      ]
    },
    {
      "cell_type": "markdown",
      "metadata": {
        "id": "xaQrPd0YrZdc"
      },
      "source": [
        "# Exercise 3"
      ]
    },
    {
      "cell_type": "markdown",
      "metadata": {
        "id": "EMaMLMuB-1sf"
      },
      "source": [
        "\n",
        "## To convert the number of decimal digits to bits, Using following formula:\n",
        "\n",
        "$\n",
        "\\text{Bits} = \\text{Digits} \\times \\log_2(10)\n",
        "$\n",
        "\n",
        "Since \n",
        "$\n",
        "log_2(10) \\approx 3.32193:\n",
        "$\n",
        "\n",
        "\n",
        "$\n",
        "600 \\times 3.32193 \\approx 1993.158\n",
        "$\n",
        "\n",
        "\n",
        "\n",
        "So, a number with 600 digits has approximately **1993 bits**.\n",
        "\n",
        "\n",
        "\n",
        "$\n",
        "600 \\text{ digits} \\approx 1993 \\text{ bits}\n",
        "$\n"
      ]
    },
    {
      "cell_type": "markdown",
      "metadata": {
        "id": "9HXyIGlnIx4p"
      },
      "source": [
        "\n",
        "\n",
        "## Introduction \n",
        "\n",
        "The RSA cryptosystem is based on the difficulty of factoring large prime numbers. In this setup, we generate two 600-digit safe prime numbers and use them to construct the RSA keys. A safe prime is of the form:\n",
        "\n",
        "\n",
        "$p = 2q + 1$\n",
        "\n",
        "\n",
        "where $q$ is also a prime.\n",
        "\n",
        "## Key Generation\n",
        "### Generate Two Safe Prime Numbers\n",
        "We choose two 600-digit safe prime numbers, $p$ and $q$, such that both $q$ and $(2q+1)$ are prime:\n",
        "\n",
        "   $ N = p \\times q.$\n",
        "\n",
        "\n",
        "## Compute Euler’s Totient Function\n",
        "\n",
        "\n",
        "\n",
        "$\n",
        "    \\phi(N) = (p-1)(q-1).\n",
        "$\n",
        "\n",
        " helps in RSA cryptography by determining the number of integers less than\n",
        "\n",
        "$N$ that are coprime to $N$, this allows the calculation of private key $d$  \n",
        "\n",
        "\n",
        "##Choose a Public Exponent\n",
        "A common choice for the public exponent is:\n",
        "\n",
        "  $  \n",
        "  e = 65537,\n",
        "  $\n",
        "\n",
        "which is a prime number and ensures efficient encryption.\n",
        "\n",
        "## Compute the Private Key\n",
        "The private key $d$ is computed as the modular inverse of $e$ modulo $\\phi(N)$:\n",
        "$\n",
        "    d \\equiv e^{-1} \\mod \\phi(N).\n",
        "$\n",
        "\n",
        "## Encryption and Decryption\n",
        "### Encryption\n",
        "To encrypt a message $M$, convert it into an integer and compute:\n",
        "$\n",
        "    C = M^e \\mod N.\n",
        "$\n",
        "\n",
        "### Decryption\n",
        "To decrypt the ciphertext $C$:\n",
        "$\n",
        "    M = C^d \\mod N.\n",
        "$\n",
        "\n",
        "\n",
        "## Algorithm: RSA Key Generation\n",
        "\n",
        "1. Choose two 600-digit safe prime numbers p and q.\n",
        "2. Compute N = p × q.\n",
        "3. Compute Euler’s Totient Function: φ(N) = (p - 1) × (q - 1).\n",
        "4. Choose a public exponent e = 65537.\n",
        "5. Compute the private key d as the modular inverse of e modulo φ(N): d ≡ e⁻¹ mod φ(N).\n",
        "6. Publish the public key (e, N) and keep d secret.\n",
        "\n"
      ]
    },
    {
      "cell_type": "code",
      "execution_count": null,
      "metadata": {
        "colab": {
          "base_uri": "https://localhost:8080/"
        },
        "id": "hZppMbqbrbkj",
        "outputId": "72d0adb5-90bf-4d26-f845-a7ad816d895d"
      },
      "outputs": [
        {
          "name": "stdout",
          "output_type": "stream",
          "text": [
            "Public key (e, n): (65537, 563666703970587452271407062343026269306917913611441538802545928535743699284845351323183808809872042022394522993932300806525843578195197009396185290822779724568082581035371648755467363791558495899776031960853934130121811619191050429508186323142756924406442546946192027921536002921126838158741189969384400814422619356761909193601410355253037742624847595133364356097752306676716092888005000790123274683884634185904869900223131111914498772167035145146438785839684829489171483739568547426481768878582634411763615170681914179297470609345397120299128618758982620592766900110429764160534107440615695408223041023923493167266037145654835930557309863260054529541825704969854169575596849430705818208548896300734430754069474221581289267369785941969631980651985454438249821536684434861350712861987264186918158216442230682232849508480057560800179805102893048472456005795901314306156820568539045228051203406768988380107606236673273958541263015566395270220829233544086533609181983387032216143327400493138604864824405562829900490189583459519269977110793883203304558405810962100307820560039369009612369450485152715038117289996000677078336417402584580893766755711998473834926035671579260069187873173482649518299401465913)\n",
            "Private key (d, n): (399143146586920708683819200592263349039404405677400230903894768626681013723714894856437038607939663490475380672023593021182711274194465764561364831721066900495225237967705684963360077800916225608691366575206515023737629638576960622741594990378092731553995235037900417043542469499117358213999132461040195202644688025216391990122438496827486390279291502432964173486496010623816171609114486117277887781401622034873021382265820355550727970745193814424766638284451433036810812478232100171935943514614079035981595935746315413168698842463054298470207072941496642453409925695787486384211466165739859812088054353284272969106177200123383510592390822562031724860643317379839723685848513285821783804778239453523300234304614964610076866286745745363800091247810308975882753039666751410090862986607886965365622230978138629326048726163802644315610847082524173499659583765596141549946122153349133745139851920645180105433961770988444514365697539846166117008069917205253720016178977959210184595365048000192401042138765174431622918393215529819949365214794681396114853707902517254193192855397994671476957378797626265157458642210049371399715085996213243467662789088301907080381234337291279336091450685104556523720504331425, 563666703970587452271407062343026269306917913611441538802545928535743699284845351323183808809872042022394522993932300806525843578195197009396185290822779724568082581035371648755467363791558495899776031960853934130121811619191050429508186323142756924406442546946192027921536002921126838158741189969384400814422619356761909193601410355253037742624847595133364356097752306676716092888005000790123274683884634185904869900223131111914498772167035145146438785839684829489171483739568547426481768878582634411763615170681914179297470609345397120299128618758982620592766900110429764160534107440615695408223041023923493167266037145654835930557309863260054529541825704969854169575596849430705818208548896300734430754069474221581289267369785941969631980651985454438249821536684434861350712861987264186918158216442230682232849508480057560800179805102893048472456005795901314306156820568539045228051203406768988380107606236673273958541263015566395270220829233544086533609181983387032216143327400493138604864824405562829900490189583459519269977110793883203304558405810962100307820560039369009612369450485152715038117289996000677078336417402584580893766755711998473834926035671579260069187873173482649518299401465913)\n",
            "Factorization of p-1: {2: 1, 371982504936869915947915227105892751410565882209866916573747138744241522931704090607017510263998061929893358004575542663673188119836086922781593159308048483040232280013903718928371398052245984487211699815022145296881556098745332936489343340618515014098176737269178997113547265236535715356331681682903987780463280209218197178200028790724000351184610052899930035259062123840230736993251301123021745141529007775706479458482831469662374694695338629328621958220706198969910762413831783603319514259205683658811623912926817882236150356002623202634951257963292442867260538313263237195307091032085383846147443: 1}\n",
            "Factorization of q-1: {2: 1, 378826084889562711149687163007143903032589659264176190931695009552716596838305038135507577928775370742652100048009566518630878663585747882794794420384571516418179134088900565235942360177674905565175356692154967709761942278445895974003567016150090210735642112001049856820272127086260873268176786814382840010409481637981962257827784378157335306082525282115617225943817903668161707185029350564052338235907243352878527243195882978919224121494726033862843328667932214946400930491057605138769391262845038895275598272836072441725967008653179436041468781502849217002898524690178426369322771119676706396169199: 1}\n",
            "Encrypted message: 516885719341752039663207378438667284035397000269598329945648248686061582221202902914735534477380452625961796990850798992220044353721074293945836276623932751053982893215858799967016485733633867494470480144268993239909812837609835269896102475504995671547249583812902561037657821842356260554181401137255236485535073685236712554902985376328297923771585217881904463061300445682325930514575634406680189206324199341632761119086657466186465818794471423386806975583521589424225004553027577080874220951790336064440434006947351128256552118683365834974044986570143449854710839574433767968555453823124190828931131847281549364442709156745561226656547459530729628162059096102369835657810947659597612964808249639817334009730294670253830474379041445589883548865980594939456425174073274257910815068609288376463968473417415356394356548257239366458347625973209152159089913434889776778698479630697273306656276867569985578252595212279614538752771760465642224517770468746385411151625968757282011327786689104313363606253685029455601976471657061799200082004490466662808201468723896692907829543643193305727143664167213335260888281042278485082822683742159633133035336572745663945280899166414220830973791618613491498964597442014\n",
            "............................................................. \n",
            "\n",
            "............................................................. \n",
            "\n",
            "Decrypted message: Welcome to  Tutoяia∫Σ, #learn_effortlessly.\n"
          ]
        }
      ],
      "source": [
        "from Crypto.Util import number\n",
        "from sympy import isprime, factorint\n",
        "\n",
        "# Function to generate a safe prime number of specified bit length\n",
        "def generate_safe_prime(bits):\n",
        "    while True:\n",
        "        p = number.getPrime(bits)\n",
        "        if isprime((p - 1) // 2):\n",
        "            return p\n",
        "\n",
        "# Generate two safe prime numbers of 1993 bits\n",
        "bits = 1993\n",
        "p = generate_safe_prime(bits)\n",
        "q = generate_safe_prime(bits)\n",
        "\n",
        "# Compute n and φ(n)\n",
        "n = p * q\n",
        "phi_n = (p - 1) * (q - 1)\n",
        "\n",
        "# Choose a public exponent e\n",
        "e = 65537\n",
        "\n",
        "# Compute the private exponent d\n",
        "d = mod_inverse(e, phi_n)\n",
        "\n",
        "# Print the factorization of p-1 and q-1\n",
        "factors_p_minus_1 = factorint(p - 1)\n",
        "factors_q_minus_1 = factorint(q - 1)\n",
        "\n",
        "print(f\"Public key (e, n): ({e}, {n})\")\n",
        "print(f\"Private key (d, n): ({d}, {n})\")\n",
        "print(f\"Factorization of p-1: {factors_p_minus_1}\")\n",
        "print(f\"Factorization of q-1: {factors_q_minus_1}\")\n",
        "\n",
        "# Function to encrypt a message\n",
        "def encrypt(message, e, n):\n",
        "    message_bytes = message.encode('utf-8')\n",
        "    message_int = int.from_bytes(message_bytes, byteorder='big')\n",
        "    encrypted_message = pow(message_int, e, n)\n",
        "    return encrypted_message\n",
        "\n",
        "# Function to decrypt a message\n",
        "def decrypt(encrypted_message, d, n):\n",
        "    decrypted_message_int = pow(encrypted_message, d, n)\n",
        "    decrypted_message_bytes = decrypted_message_int.to_bytes((decrypted_message_int.bit_length() + 7) // 8, byteorder='big')\n",
        "    decrypted_message = decrypted_message_bytes.decode('utf-8')\n",
        "    return decrypted_message\n",
        "\n",
        "# Implementation\n",
        "message = \"Welcome to  Tutoяia∫Σ, #learn_effortlessly.\"\n",
        "encrypted_message = encrypt(message, e, n)\n",
        "print(f\"Encrypted message: {encrypted_message}\")\n",
        "\n",
        "print('............................................................. \\n')\n",
        "\n",
        "decrypted_message = decrypt(encrypted_message, d, n)\n",
        "\n",
        "print('............................................................. \\n')\n",
        "print(f\"Decrypted message: {decrypted_message}\")"
      ]
    },
    {
      "cell_type": "code",
      "execution_count": null,
      "metadata": {
        "colab": {
          "base_uri": "https://localhost:8080/"
        },
        "id": "jfKPXDZ_7tfI",
        "outputId": "0bb208ae-7a22-4cb9-f3b9-a991fe8da9f9"
      },
      "outputs": [
        {
          "name": "stdout",
          "output_type": "stream",
          "text": [
            "The number P has 600 digits.\n"
          ]
        }
      ],
      "source": [
        "# Function to count the number of digits in an integer\n",
        "def count_digits(n):\n",
        "    return len(str(abs(n)))\n",
        "\n",
        "\n",
        "number = p\n",
        "# Get the number of digits\n",
        "digits_count = count_digits(number)\n",
        "print(f\"The number P has {digits_count} digits.\")"
      ]
    },
    {
      "cell_type": "code",
      "execution_count": null,
      "metadata": {
        "colab": {
          "base_uri": "https://localhost:8080/"
        },
        "id": "YV9iA5Fa5aYt",
        "outputId": "cb787314-b35b-4802-9c18-ded8abaec9d5"
      },
      "outputs": [
        {
          "name": "stdout",
          "output_type": "stream",
          "text": [
            "The number q has 600 digits.\n"
          ]
        }
      ],
      "source": [
        "\n",
        "number = q\n",
        "# Get the number of digits\n",
        "digits_count = count_digits(number)\n",
        "print(f\"The number q has {digits_count} digits.\")"
      ]
    }
  ],
  "metadata": {
    "colab": {
      "provenance": []
    },
    "kernelspec": {
      "display_name": "Python 3",
      "name": "python3"
    },
    "language_info": {
      "name": "python"
    }
  },
  "nbformat": 4,
  "nbformat_minor": 0
}
